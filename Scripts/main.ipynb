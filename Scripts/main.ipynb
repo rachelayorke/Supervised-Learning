{
 "cells": [
  {
   "cell_type": "code",
   "execution_count": 16,
   "metadata": {},
   "outputs": [
    {
     "name": "stdout",
     "output_type": "stream",
     "text": [
      "R^2 score: 0.03699242811630565\n",
      "RMSE: 49.182776960576774\n"
     ]
    }
   ],
   "source": [
    "# Import necessary modules\n",
    "import pandas as pd\n",
    "import numpy as np\n",
    "import matplotlib.pyplot as plt\n",
    "from sklearn.model_selection import train_test_split \n",
    "from sklearn.linear_model import ElasticNet \n",
    "from sklearn.metrics import mean_squared_error, r2_score\n",
    "\n",
    "\n",
    "# Load dataset\n",
    "hd = pd.read_csv('../Data/heart_disease_uci.csv')\n",
    "hd_cleaned = hd.dropna() # drop 2 rows with missing data\n",
    "\n",
    "# 1. Linear Regression\n",
    "# Split data into features\n",
    "X = hd_cleaned.drop(columns=[\"chol\"])\n",
    "y = hd_cleaned[\"chol\"]\n",
    "\n",
    "# Make training and testing sets\n",
    "X_train, X_test, y_train, y_test = train_test_split(X, y, test_size=0.2, random_state=42)\n",
    "\n",
    "# Train a linear regression model\n",
    "elastic_net = ElasticNet(alpha=0.5, l1_ratio=0.5)\n",
    "chol_model = elastic_net.fit(X_train, y_train)\n",
    "\n",
    "# Predict on the test set\n",
    "y_pred = chol_model.predict(X_test)\n",
    "\n",
    "# Evaluate the model\n",
    "r2 = r2_score(y_test, y_pred)\n",
    "RMSE = np.sqrt(mean_squared_error(y_test, y_pred))\n",
    "print(\"R^2 score:\", r2)\n",
    "print(\"RMSE:\", RMSE)\n",
    "\n",
    "#"
   ]
  },
  {
   "cell_type": "code",
   "execution_count": null,
   "metadata": {},
   "outputs": [],
   "source": [
    "# 2. Classification Models"
   ]
  }
 ],
 "metadata": {
  "kernelspec": {
   "display_name": "default",
   "language": "python",
   "name": "python3"
  },
  "language_info": {
   "codemirror_mode": {
    "name": "ipython",
    "version": 3
   },
   "file_extension": ".py",
   "mimetype": "text/x-python",
   "name": "python",
   "nbconvert_exporter": "python",
   "pygments_lexer": "ipython3",
   "version": "3.13.1"
  }
 },
 "nbformat": 4,
 "nbformat_minor": 2
}
